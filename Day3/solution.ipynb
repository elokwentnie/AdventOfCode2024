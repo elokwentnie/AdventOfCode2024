{
 "cells": [
  {
   "cell_type": "code",
   "execution_count": 32,
   "metadata": {},
   "outputs": [],
   "source": [
    "import re\n",
    "import numpy as np"
   ]
  },
  {
   "cell_type": "code",
   "execution_count": 33,
   "metadata": {},
   "outputs": [],
   "source": [
    "with open(\"input.txt\") as file:\n",
    "    input_text = file.read()\n",
    "    \n",
    "x = re.findall(\"mul\\(\\d+,\\d+\\)\", input_text)\n",
    "string_tuples = [mul.replace('mul', '') for mul in x]\n",
    "result_tuples = [eval(ele) for ele in string_tuples]\n",
    "\n",
    "suma = 0\n",
    "for x,y in result_tuples:\n",
    "    suma+=(x*y)\n",
    "suma"
   ]
  },
  {
   "cell_type": "code",
   "execution_count": 39,
   "metadata": {},
   "outputs": [],
   "source": [
    "x = re.findall(\"mul\\(\\d+,\\d+\\)\", input_text)\n",
    "string_tuples = [mul.replace('mul', '') for mul in x]\n",
    "result_tuples = [eval(ele) for ele in string_tuples]"
   ]
  },
  {
   "cell_type": "code",
   "execution_count": 41,
   "metadata": {},
   "outputs": [
    {
     "data": {
      "text/plain": [
       "187833789"
      ]
     },
     "execution_count": 41,
     "metadata": {},
     "output_type": "execute_result"
    }
   ],
   "source": [
    "suma = 0\n",
    "for x,y in result_tuples:\n",
    "    suma+=(x*y)\n",
    "suma"
   ]
  },
  {
   "cell_type": "code",
   "execution_count": null,
   "metadata": {},
   "outputs": [],
   "source": []
  }
 ],
 "metadata": {
  "kernelspec": {
   "display_name": "Python 3 (ipykernel)",
   "language": "python",
   "name": "python3"
  },
  "language_info": {
   "codemirror_mode": {
    "name": "ipython",
    "version": 3
   },
   "file_extension": ".py",
   "mimetype": "text/x-python",
   "name": "python",
   "nbconvert_exporter": "python",
   "pygments_lexer": "ipython3",
   "version": "3.11.9"
  }
 },
 "nbformat": 4,
 "nbformat_minor": 2
}
